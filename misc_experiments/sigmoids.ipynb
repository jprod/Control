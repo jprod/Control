{
 "cells": [
  {
   "cell_type": "code",
   "execution_count": 1,
   "metadata": {},
   "outputs": [],
   "source": [
    "import time\n",
    "\n",
    "import matplotlib.pyplot as plt\n",
    "import numpy as np\n",
    "import pylab as pl\n",
    "from IPython import display\n",
    "\n",
    "from Node.functions import *"
   ]
  },
  {
   "cell_type": "code",
   "execution_count": 2,
   "metadata": {},
   "outputs": [
    {
     "name": "stdout",
     "output_type": "stream",
     "text": [
      "ref base:  [1.]\n",
      "error time 1:  [-1.]\n",
      "sqr error time 1:  [1.]\n",
      "sigmoid error a:  [0.73105858]\n",
      "updated ref a:  [2.09658787]\n",
      "sigmoid error b:  [0.46211716]\n",
      "updated ref b:  [1.69317574]\n"
     ]
    }
   ],
   "source": [
    "Ro = np.array([1.0])\n",
    "R1 = np.array([1.5])\n",
    "S1 = np.array([2.5])\n",
    "E1 = R1-S1\n",
    "sqr_error = np.square(E1)\n",
    "R2a = matrix_sigmoid(sqr_error)*(R1 - E1) + (1-matrix_sigmoid(sqr_error))*(Ro)\n",
    "R2b = adjustable_sigmoid(sqr_error,1)*(R1 - E1) + (1-adjustable_sigmoid(sqr_error,1))*(Ro)\n",
    "\n",
    "print(\"ref base: \", Ro)\n",
    "print(\"error time 1: \", E1)\n",
    "print(\"sqr error time 1: \", sqr_error)\n",
    "print(\"sigmoid error a: \", matrix_sigmoid(sqr_error))\n",
    "print(\"updated ref a: \", R2a)\n",
    "print(\"sigmoid error b: \", adjustable_sigmoid(sqr_error,1))\n",
    "print(\"updated ref b: \", R2b)\n"
   ]
  },
  {
   "cell_type": "code",
   "execution_count": 3,
   "metadata": {},
   "outputs": [
    {
     "name": "stdout",
     "output_type": "stream",
     "text": [
      "ref base:  [1.]\n",
      "error time 1:  [0.]\n",
      "sqr error time 1:  [0.]\n",
      "sigmoid error a:  [0.5]\n",
      "updated ref a:  [1.25]\n",
      "sigmoid error b:  [0.]\n",
      "updated ref b:  [1.]\n"
     ]
    }
   ],
   "source": [
    "Ro = np.array([1.0])\n",
    "R1 = np.array([1.5])\n",
    "S1 = np.array([1.5])\n",
    "E1 = R1-S1\n",
    "sqr_error = np.square(E1)\n",
    "R2a = matrix_sigmoid(sqr_error)*(R1 - E1) + (1-matrix_sigmoid(sqr_error))*(Ro)\n",
    "R2b = shifted_sigmoid(sqr_error,1)*(R1 - E1) + (1-shifted_sigmoid(sqr_error,1))*(Ro)\n",
    "\n",
    "print(\"ref base: \", Ro)\n",
    "print(\"error time 1: \", E1)\n",
    "print(\"sqr error time 1: \", sqr_error)\n",
    "print(\"sigmoid error a: \", matrix_sigmoid(sqr_error))\n",
    "print(\"updated ref a: \", R2a)\n",
    "print(\"sigmoid error b: \", shifted_sigmoid(sqr_error,1))\n",
    "print(\"updated ref b: \", R2b)"
   ]
  },
  {
   "cell_type": "code",
   "execution_count": 4,
   "metadata": {},
   "outputs": [
    {
     "name": "stdout",
     "output_type": "stream",
     "text": [
      "[-0.76159416]\n",
      "[-0.46211716]\n",
      "[0.]\n",
      "[0.46211716]\n",
      "[0.76159416]\n"
     ]
    }
   ],
   "source": [
    "for x in [-2,-1,0,1,2]:\n",
    "    print(shifted_sigmoid(np.array([x]),1))"
   ]
  },
  {
   "cell_type": "code",
   "execution_count": null,
   "metadata": {},
   "outputs": [],
   "source": []
  }
 ],
 "metadata": {
  "interpreter": {
   "hash": "cd78fef2128015050713e82ca51c6520b11aee7c9ee8df750520bbbc7384cbaa"
  },
  "kernelspec": {
   "display_name": "Python 3.9.7 ('base')",
   "language": "python",
   "name": "python3"
  },
  "language_info": {
   "codemirror_mode": {
    "name": "ipython",
    "version": 3
   },
   "file_extension": ".py",
   "mimetype": "text/x-python",
   "name": "python",
   "nbconvert_exporter": "python",
   "pygments_lexer": "ipython3",
   "version": "3.9.7"
  },
  "orig_nbformat": 4
 },
 "nbformat": 4,
 "nbformat_minor": 2
}
