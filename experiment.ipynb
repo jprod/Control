{
 "cells": [
  {
   "cell_type": "code",
   "execution_count": 1,
   "metadata": {},
   "outputs": [],
   "source": [
    "#from Node import Control_node \n",
    "from Node.Node import Control_node"
   ]
  },
  {
   "cell_type": "markdown",
   "metadata": {},
   "source": [
    "### Agent\n",
    "Fields:\n",
    "`Agent(inputs, behavioral_model, system_estimate, reference, reference_update, sensor_function, comparator_function, controller_update, internal_model_update)`\n",
    "<br/>\n",
    "**inputs** - source of inputs (i.e. environment, state observations, others behaviors)\n",
    "<br/>\n",
    "**behavioral model** - initial matrix expressing future state given last behavior (\"B\" matrix)\n",
    "<br/>\n",
    "**system estimate** - initial matrix expressing future state given last state (\"A\" matrix)\n",
    "<br/>\n",
    "**reference** - target state \n",
    "<br/>\n",
    "**reference update** - update to reference (target) signal\n",
    "<br/>\n",
    "**sensor function** - for taking in (and processing) observations\n",
    "<br/>\n",
    "**comparator function** - for comparing observation and estimate\n",
    "<br/>\n",
    "**controller** - for generating output\n",
    "<br/>\n",
    "**controller update** - for updating the behavioral matrix \n",
    "<br/>\n",
    "**internal model** - for generating forward prediction\n",
    "<br/>\n",
    "**internal model update** - for updating the system estimate \n",
    "<br/>\n",
    "\n",
    "![IMC](imc.png)"
   ]
  },
  {
   "cell_type": "code",
   "execution_count": 2,
   "metadata": {},
   "outputs": [],
   "source": [
    "import numpy as np"
   ]
  },
  {
   "cell_type": "code",
   "execution_count": 3,
   "metadata": {},
   "outputs": [],
   "source": [
    "# behavioral matrix (maps previous behavior to future behavior commands - how should I behave?)\n",
    "B1 = np.array([[0.4,0,0],\n",
    "               [0,0.3,0],\n",
    "               [0,0,0.2]])\n",
    "B2 = np.array([[0.1,0,0],\n",
    "               [0,0.7,0],\n",
    "               [0,0,0.5]])\n",
    "# state/system matrix (maps previous state to future state - how will others behave (give past behaviors)?)\n",
    "A1 = np.array([[0.4,0,0],\n",
    "               [0,0.4,0],\n",
    "               [0,0,0.4]])\n",
    "A2 = np.array([[0.3,0,0],\n",
    "               [0,0.3,0],\n",
    "               [0,0,0.3]])\n",
    "# reference matrix (how do I expect/want others to behave? target values)\n",
    "R1 = np.array([0.3,0.5,0.1])\n",
    "R2 = np.array([0.1,0.4,0.8])\n",
    "\n",
    "# get the state observation (behaviors of others)\n",
    "def sense(inputs):\n",
    "    return inputs\n",
    "\n",
    "# contrast reference with observations (and potentially incorporate predictions from internal model)\n",
    "def compare(sensory_signal, reference, prediction):\n",
    "    error = reference - sensory_signal\n",
    "    return error\n",
    "\n",
    "# generate a behavior\n",
    "def control(error, behavioral_model, previous_output):\n",
    "    #learning_rate = 0.01\n",
    "    output = behavioral_model @ previous_output\n",
    "    return output\n",
    "\n",
    "\n",
    "# adjusts behavioral model to get closer to behavior given \n",
    "def control_update(error, behavioral_model, previous_output):\n",
    "    # LMS algorithm\n",
    "    learning_rate = 0.01\n",
    "    behavioral_model = behavioral_model + learning_rate * error * previous_output\n",
    "    return behavioral_model\n",
    "\n",
    "# generate predictions on next state\n",
    "def imc(system_estimate, previous_state, behavioral_model, previous_output):\n",
    "    # actual estimate\n",
    "    state = (system_estimate @ previous_state) + (behavioral_model @ previous_output)\n",
    "    return state\n",
    "\n",
    "# adjust system estimate to infer observations given my behavior\n",
    "def imc_update(inputs, system_estimate, previous_behavior, behavioral_model, previous_state, learning_rate):\n",
    "    # actual estimate\n",
    "    curr_system_est = (system_estimate @ previous_state) + (behavioral_model @ previous_behavior)\n",
    "    error = curr_system_est - inputs\n",
    "    #learning_rate = 0.01\n",
    "    system_estimate = system_estimate + learning_rate * error * previous_behavior\n",
    "    return system_estimate\n",
    "    \n",
    "# behavior = last observation * behavioral model (like a motor command u)\n",
    "# output = your behavior * est"
   ]
  },
  {
   "cell_type": "code",
   "execution_count": null,
   "metadata": {},
   "outputs": [],
   "source": []
  },
  {
   "cell_type": "code",
   "execution_count": 4,
   "metadata": {},
   "outputs": [],
   "source": [
    "agent1 = Control_node(sensor=sense, comparator=compare, control_update=control_update, controller = control, internal_model=imc, internal_model_update=imc_update, behavioral_model=B1, system_estimate=A1, reference=R1)\n",
    "agent2 = Control_node(sensor=sense, comparator=compare, control_update=control_update,  controller = control, internal_model=imc, internal_model_update=imc_update, behavioral_model=B2, system_estimate=A2, reference=R2)\n"
   ]
  },
  {
   "cell_type": "code",
   "execution_count": 5,
   "metadata": {},
   "outputs": [],
   "source": [
    "trials = 100\n",
    "time = [n for n in range(trials)]\n",
    "behavior1 = np.array([0,0,0])\n",
    "behavior2 = np.array([0,0,0])\n",
    "agent1_behaviors = []\n",
    "agent2_behaviors = []\n",
    "agent1_error = []\n",
    "agent2_error = []\n",
    "\n",
    "for t in range(trials):\n",
    "    b1 = agent1.go(behavior2)\n",
    "    b2 = agent2.go(behavior1)\n",
    "\n",
    "    agent1_behaviors.append(agent1.get_output())\n",
    "    agent2_behaviors.append(agent2.get_output())\n",
    "    agent1_error.append(sum(abs(agent1.get_error())/len(agent1.get_error())))\n",
    "    agent2_error.append(sum(abs(agent2.get_error())/len(agent2.get_error())))\n",
    "\n",
    "    behavior1 = b1\n",
    "    behavior2 = b2\n"
   ]
  },
  {
   "cell_type": "code",
   "execution_count": 6,
   "metadata": {},
   "outputs": [],
   "source": [
    "import matplotlib.pyplot as plt\n",
    "import numpy as np\n",
    "import scipy.stats as sp\n",
    "import itertools as it"
   ]
  },
  {
   "cell_type": "code",
   "execution_count": 7,
   "metadata": {},
   "outputs": [
    {
     "data": {
      "image/png": "[encoded data removed]",
      "text/plain": [
       "<Figure size 432x288 with 1 Axes>"
      ]
     },
     "metadata": {},
     "output_type": "display_data"
    }
   ],
   "source": [
    "plt.figure(facecolor='white') \n",
    "plt.plot(time, agent1_error, 'g', label=\"agent 1\")\n",
    "plt.plot(time, agent2_error, 'r', label=\"agent 2\")\n",
    "plt.ylim([0, 1])\n",
    "plt.legend()\n",
    "plt.title(\"Agent Avg. Error across Time\")\n",
    "plt.show()"
   ]
  },
  {
   "cell_type": "code",
   "execution_count": null,
   "metadata": {},
   "outputs": [],
   "source": [
    "\n",
    "\n"
   ]
  },
  {
   "cell_type": "code",
   "execution_count": 72,
   "metadata": {},
   "outputs": [],
   "source": [
    "# behavioral matrix (maps previous behavior to future behavior commands - how should I behave?)\n",
    "B1 = np.array([[0.4,0,0],\n",
    "               [0,0.3,0],\n",
    "               [0,0,0.2]])\n",
    "B2 = np.array([[0.1,0,0],\n",
    "               [0,0.7,0],\n",
    "               [0,0,0.5]])\n",
    "# state/system matrix (maps previous state to future state - how will others behave (give past behaviors)?)\n",
    "A1 = np.array([[0.4,0,0],\n",
    "               [0,0.4,0],\n",
    "               [0,0,0.4]])\n",
    "A2 = np.array([[0.3,0,0],\n",
    "               [0,0.3,0],\n",
    "               [0,0,0.3]])\n",
    "# reference matrix (how do I expect/want others to behave? target values)\n",
    "R1 = np.array([0.3,0.5,0.1])\n",
    "R2 = np.array([0.1,0.4,0.8])\n",
    "\n",
    "\n",
    "def dynamic_sigmoid(i, x):\n",
    "    '''\n",
    "    Helper sigmoid function where the intercept is a value of i (list)\n",
    "    '''\n",
    "    y = np.exp(np.clip(-x, -100, 100))  # avoid runover into infinity.\n",
    "    out = np.asarray([1 / (1 + ((1 - np.clip(i[j], 1e-50, 1-1e-50))/np.clip(i[j], 1e-50, 1-1e-50)) * y[j])\n",
    "                      for j in range(len(i))])  # changed clips to keep sigmoid function from getting stuck at 0 or 1\n",
    "    return out\n",
    "    \n",
    "\n",
    "# get the state observation (behaviors of others)\n",
    "def sense(inputs):\n",
    "    return inputs\n",
    "\n",
    "# contrast reference with observations (and potentially incorporate predictions from internal model)\n",
    "def compare(sensory_signal, reference, prediction):\n",
    "    error = prediction - sensory_signal\n",
    "    pred_error = sum(abs(error))\n",
    "    threshold = 0.1\n",
    "    if pred_error > threshold:\n",
    "            magnitude = np.random.choice([-1, 1]) * pred_error\n",
    "            r = round(np.random.uniform(0, magnitude), 3) * threshold\n",
    "            error = np.array([e*r for e in error])\n",
    "    return error\n",
    "\n",
    "# generate a behavior\n",
    "def control(error, behavioral_model, previous_output):\n",
    "    output = dynamic_sigmoid(previous_output, error)\n",
    "    return output\n",
    "\n",
    "\n",
    "# adjusts behavioral model to get closer to behavior given \n",
    "def control_update(error, behavioral_model, previous_output):\n",
    "    # LMS algorithm\n",
    "    #learning_rate = 0.01\n",
    "    #behavioral_model = behavioral_model + learning_rate * error * previous_output\n",
    "    return behavioral_model\n",
    "\n",
    "# generate predictions on next state\n",
    "def imc(system_estimate, previous_state, behavioral_model, previous_output):\n",
    "    # actual estimate\n",
    "    #state = (system_estimate @ previous_state) + (behavioral_model @ previous_output)\n",
    "    return np.array([0,0,0])\n",
    "\n",
    "# adjust system estimate to infer observations given my behavior\n",
    "def imc_update(inputs, system_estimate, previous_behavior, behavioral_model, previous_state, learning_rate):\n",
    "    # actual estimate\n",
    "    #curr_system_est = (system_estimate @ previous_state) + (behavioral_model @ previous_behavior)\n",
    "    #error = curr_system_est - inputs\n",
    "    #learning_rate = 0.01\n",
    "    #system_estimate = system_estimate + learning_rate * error * previous_behavior\n",
    "    return system_estimate\n",
    "    \n",
    "# behavior = last observation * behavioral model (like a motor command u)\n",
    "# output = your behavior * est"
   ]
  },
  {
   "cell_type": "code",
   "execution_count": 73,
   "metadata": {},
   "outputs": [],
   "source": [
    "agent1 = Control_node(sensor=sense, comparator=compare, control_update=control_update, controller = control, internal_model=imc, internal_model_update=imc_update, behavioral_model=B1, system_estimate=A1, reference=R1)\n",
    "agent2 = Control_node(sensor=sense, comparator=compare, control_update=control_update,  controller = control, internal_model=imc, internal_model_update=imc_update, behavioral_model=B2, system_estimate=A2, reference=R2)\n"
   ]
  },
  {
   "cell_type": "code",
   "execution_count": 74,
   "metadata": {},
   "outputs": [],
   "source": [
    "trials = 100\n",
    "time = [n for n in range(trials)]\n",
    "behavior1 = np.array([0,1,0])\n",
    "behavior2 = np.array([1,0,1])\n",
    "agent1_behaviors = []\n",
    "agent2_behaviors = []\n",
    "agent1_error = []\n",
    "agent2_error = []\n",
    "\n",
    "for t in range(trials):\n",
    "    b1 = agent1.go(behavior2)\n",
    "    b2 = agent2.go(behavior1)\n",
    "\n",
    "    agent1_behaviors.append(agent1.get_output())\n",
    "    agent2_behaviors.append(agent2.get_output())\n",
    "    agent1_error.append(sum(abs(agent1.get_error())/len(agent1.get_error())))\n",
    "    agent2_error.append(sum(abs(agent2.get_error())/len(agent2.get_error())))\n",
    "\n",
    "    behavior1 = b1\n",
    "    behavior2 = b2\n"
   ]
  },
  {
   "cell_type": "code",
   "execution_count": 75,
   "metadata": {},
   "outputs": [
    {
     "data": {
      "image/png": "[encoded data removed]",
      "text/plain": [
       "<Figure size 432x288 with 1 Axes>"
      ]
     },
     "metadata": {},
     "output_type": "display_data"
    }
   ],
   "source": [
    "plt.figure(facecolor='white') \n",
    "plt.plot(time, agent1_error, 'g', label=\"agent 1\")\n",
    "plt.plot(time, agent2_error, 'r', label=\"agent 2\")\n",
    "plt.ylim([0, 1])\n",
    "plt.legend()\n",
    "plt.title(\"Agent Avg. Error across Time\")\n",
    "plt.show()"
   ]
  }
 ],
 "metadata": {
  "interpreter": {
   "hash": "cd78fef2128015050713e82ca51c6520b11aee7c9ee8df750520bbbc7384cbaa"
  },
  "kernelspec": {
   "display_name": "Python 3.9.7 ('base')",
   "language": "python",
   "name": "python3"
  },
  "language_info": {
   "codemirror_mode": {
    "name": "ipython",
    "version": 3
   },
   "file_extension": ".py",
   "mimetype": "text/x-python",
   "name": "python",
   "nbconvert_exporter": "python",
   "pygments_lexer": "ipython3",
   "version": "3.9.7"
  },
  "orig_nbformat": 4
 },
 "nbformat": 4,
 "nbformat_minor": 2
}
